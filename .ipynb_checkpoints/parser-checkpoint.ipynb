{
 "cells": [
  {
   "cell_type": "code",
   "execution_count": 1,
   "metadata": {},
   "outputs": [],
   "source": [
    "from collections import Counter\n",
    "\n",
    "debug = False"
   ]
  },
  {
   "cell_type": "code",
   "execution_count": 2,
   "metadata": {},
   "outputs": [],
   "source": [
    "def mul_dict(dictionnary, n):\n",
    "    return { k : v * n for k, v in dictionnary.items() }"
   ]
  },
  {
   "cell_type": "code",
   "execution_count": 3,
   "metadata": {},
   "outputs": [],
   "source": [
    "def detect_mol(strmol, index):\n",
    "    \n",
    "    if index > len(strmol):\n",
    "        return (index, \"\")\n",
    "    \n",
    "    mol = strmol[index]\n",
    "    if not mol.isupper():\n",
    "        return (index, \"\")\n",
    "    \n",
    "    i = index + 1\n",
    "    while i < len(strmol) and strmol[i].islower():\n",
    "        mol += strmol[i]\n",
    "        i += 1\n",
    "        \n",
    "    return (i, mol)\n",
    "\n",
    "\n",
    "def detect_number(strmol, index):\n",
    "    \n",
    "    if index >= len(strmol):\n",
    "        return (index, \"\")\n",
    "    \n",
    "    if not strmol[index].isdigit():\n",
    "        return (index, \"\")\n",
    "    \n",
    "    i, c = detect_number(strmol, index+1)\n",
    "    return (i, strmol[index] + c)\n",
    "\n",
    "\n",
    "def detect_mol_and_count(strmol, index):\n",
    "    i1, mol = detect_mol(strmol, index)\n",
    "    if mol != \"\":\n",
    "        i2, number = detect_number(strmol, i1)\n",
    "        if number != \"\":\n",
    "            return (i2, mol, int(number))\n",
    "        else:\n",
    "            return (i1, mol, 1)\n",
    "    return (None, None, None)"
   ]
  },
  {
   "cell_type": "code",
   "execution_count": 4,
   "metadata": {},
   "outputs": [],
   "source": [
    "\n",
    "def parse_molecule(strmol):\n",
    "    strlen = len(strmol)\n",
    "    opening_brackets = [\"(\", \"[\", \"{\"]\n",
    "    closing_brackets = [\")\", \"]\", \"}\"]\n",
    "    \n",
    "    def aux(index):\n",
    "        if debug:\n",
    "            print(\"Aux begin\")\n",
    "        \n",
    "        # On initaliste le compteur de molécule \n",
    "        mol_dict = Counter({})\n",
    "        i = index\n",
    "        \n",
    "        while True:\n",
    "            \n",
    "            if i >= strlen:\n",
    "                if debug:\n",
    "                    print(\"Finished\")\n",
    "                return (i, mol_dict)\n",
    "            \n",
    "            c = strmol[i]\n",
    "            \n",
    "            if c in opening_brackets:\n",
    "                if debug:\n",
    "                    print(\"Opening bracket detected at index \"+str(i))\n",
    "                i, mdict = aux(i+1) # On calcule récursivement le nombre de molécule dans la parenthèse\n",
    "                i, n = detect_number(strmol, i) # On regarde par combien multiplier le compteur précédent\n",
    "                if n != \"\":\n",
    "                    mdict = mul_dict(mdict, int(n))\n",
    "                mol_dict += mdict # On ajoute le compteur des molécules entre parenthèses au compteur actuel\n",
    "                \n",
    "            elif c in closing_brackets:\n",
    "                if debug:\n",
    "                    print(\"Closing bracket, aux returns \" + str(i+1))\n",
    "                return (i+1, mol_dict) # On s'arrete et on retourne le compteur\n",
    "            else:\n",
    "                newi, mol, count = detect_mol_and_count(strmol, i)\n",
    "                if newi != None:\n",
    "                    i = newi\n",
    "                    if debug:\n",
    "                        print(\"Found \"+str(count) + \" \"+str(mol))\n",
    "                    mol_dict[mol] += count\n",
    "                else:\n",
    "                    i += 1\n",
    "                    \n",
    "    return dict(aux(0)[1])\n",
    "                \n",
    "    "
   ]
  },
  {
   "cell_type": "code",
   "execution_count": 5,
   "metadata": {},
   "outputs": [
    {
     "name": "stdout",
     "output_type": "stream",
     "text": [
      "{'H': 2, 'O': 1}\n",
      "{'Mg': 1, 'O': 2, 'H': 2}\n",
      "{'K': 4, 'O': 14, 'N': 2, 'S': 4}\n",
      "{'C': 33, 'H': 36, 'N': 4, 'O': 6}\n",
      "{'C': 1, 'Fe': 7, 'H': 20, 'S': 1, 'F': 2, 'U': 4, 'He': 10}\n"
     ]
    }
   ],
   "source": [
    "print(parse_molecule(\"H2O\"))\n",
    "print(parse_molecule(\"Mg(OH)2\"))\n",
    "print(parse_molecule(\"K4[ON(SO3)2]2\"))\n",
    "print(parse_molecule(\"C33H36N4O6\"))\n",
    "print(parse_molecule(\"C(Fe7{H20}SF2[U2He5]2)\"))"
   ]
  }
 ],
 "metadata": {
  "kernelspec": {
   "display_name": "Python 3",
   "language": "python",
   "name": "python3"
  },
  "language_info": {
   "codemirror_mode": {
    "name": "ipython",
    "version": 3
   },
   "file_extension": ".py",
   "mimetype": "text/x-python",
   "name": "python",
   "nbconvert_exporter": "python",
   "pygments_lexer": "ipython3",
   "version": "3.6.5"
  }
 },
 "nbformat": 4,
 "nbformat_minor": 2
}
